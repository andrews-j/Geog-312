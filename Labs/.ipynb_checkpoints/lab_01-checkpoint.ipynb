{
 "cells": [
  {
   "cell_type": "markdown",
   "id": "0",
   "metadata": {},
   "source": [
    "# Lab 1\n",
    "\n",
    "[![Open In Colab](https://colab.research.google.com/assets/colab-badge.svg)](https://colab.research.google.com/github/giswqs/geog-312/blob/main/book/labs/lab_01.ipynb)"
   ]
  },
  {
   "cell_type": "markdown",
   "id": "1",
   "metadata": {},
   "source": [
    "## Exercise 1: Variable Assignment and Basic Operations\n",
    "\n",
    "Create variables to store the following geospatial data:\n",
    "\n",
    "- The latitude and longitude of New York City: 40.7128, -74.0060.\n",
    "- The population of New York City: 8,336,817.\n",
    "- The area of New York City in square kilometers: 783.8.\n",
    "\n",
    "Perform the following tasks:\n",
    "\n",
    "1. Calculate and print the population density of New York City (population per square kilometer).\n",
    "2. Print the coordinates in the format \"Latitude: [latitude], Longitude: [longitude]\"."
   ]
  },
  {
   "cell_type": "code",
   "execution_count": 5,
   "id": "2",
   "metadata": {},
   "outputs": [],
   "source": [
    "# Import a few packages\n",
    "import pandas as pd\n",
    "import geopandas as gpd\n",
    "from shapely.geometry import Point\n",
    "import matplotlib.pyplot as plt\n",
    "import folium\n",
    "import os\n",
    "pd.options.display.max_rows = 300"
   ]
  },
  {
   "cell_type": "code",
   "execution_count": 2,
   "id": "e04d0120-561f-4160-858d-5a51f7afa65f",
   "metadata": {},
   "outputs": [
    {
     "name": "stdout",
     "output_type": "stream",
     "text": [
      "G:\\My Drive\\Clark\\GIS Tutorials\\Geog-312\\Geog-312\\Labs\n"
     ]
    }
   ],
   "source": [
    "print(os.getcwd())\n",
    "#os.chdir('G:/My Drive/Clark')"
   ]
  },
  {
   "cell_type": "code",
   "execution_count": 3,
   "id": "4045eb42-36c5-46b1-8129-a134c5c96efd",
   "metadata": {},
   "outputs": [],
   "source": [
    "# Define the data\n",
    "data = {\n",
    "    \"City\": [\"New York City\"],\n",
    "    \"Latitude\": [40.7128],\n",
    "    \"Longitude\": [-74.0060],\n",
    "    \"Population\": [8336817],\n",
    "    \"Area_km2\": [783.8]\n",
    "}"
   ]
  },
  {
   "cell_type": "code",
   "execution_count": 7,
   "id": "2402247e-b1cd-4b50-a9b7-2fe6a0110a34",
   "metadata": {},
   "outputs": [
    {
     "data": {
      "text/html": [
       "<div>\n",
       "<style scoped>\n",
       "    .dataframe tbody tr th:only-of-type {\n",
       "        vertical-align: middle;\n",
       "    }\n",
       "\n",
       "    .dataframe tbody tr th {\n",
       "        vertical-align: top;\n",
       "    }\n",
       "\n",
       "    .dataframe thead th {\n",
       "        text-align: right;\n",
       "    }\n",
       "</style>\n",
       "<table border=\"1\" class=\"dataframe\">\n",
       "  <thead>\n",
       "    <tr style=\"text-align: right;\">\n",
       "      <th></th>\n",
       "      <th>City</th>\n",
       "      <th>Latitude</th>\n",
       "      <th>Longitude</th>\n",
       "      <th>Population</th>\n",
       "      <th>Area_km2</th>\n",
       "      <th>geometry</th>\n",
       "    </tr>\n",
       "  </thead>\n",
       "  <tbody>\n",
       "    <tr>\n",
       "      <th>0</th>\n",
       "      <td>New York City</td>\n",
       "      <td>40.7128</td>\n",
       "      <td>-74.006</td>\n",
       "      <td>8336817</td>\n",
       "      <td>783.8</td>\n",
       "      <td>POINT (-74.006 40.7128)</td>\n",
       "    </tr>\n",
       "  </tbody>\n",
       "</table>\n",
       "</div>"
      ],
      "text/plain": [
       "            City  Latitude  Longitude  Population  Area_km2  \\\n",
       "0  New York City   40.7128    -74.006     8336817     783.8   \n",
       "\n",
       "                  geometry  \n",
       "0  POINT (-74.006 40.7128)  "
      ]
     },
     "execution_count": 7,
     "metadata": {},
     "output_type": "execute_result"
    }
   ],
   "source": [
    "# Create the geometry\n",
    "geometry = [Point(lon, lat) for lat, lon in zip(data[\"Latitude\"], data[\"Longitude\"])]\n",
    "\n",
    "# Create the GeoDataFrame\n",
    "gdf = gpd.GeoDataFrame(data, geometry=geometry)\n",
    "\n",
    "# Set the CRS (WGS 84)\n",
    "gdf.set_crs(epsg=4326, inplace=True)\n",
    "\n",
    "gdf"
   ]
  },
  {
   "cell_type": "code",
   "execution_count": 8,
   "id": "e67b82f2-0839-4099-9e79-5bcead64b0ca",
   "metadata": {},
   "outputs": [
    {
     "name": "stdout",
     "output_type": "stream",
     "text": [
      "Population Density of New York City: 10636.41 people per square kilometer\n"
     ]
    }
   ],
   "source": [
    "# 1. Calculate and print the population density of New York City (population per square kilometer).\n",
    "\n",
    "# Calculate population density\n",
    "gdf[\"Population_Density\"] = gdf[\"Population\"] / gdf[\"Area_km2\"]\n",
    "\n",
    "# Print the population density\n",
    "print(f\"Population Density of New York City: {gdf.loc[0, 'Population_Density']:.2f} people per square kilometer\")"
   ]
  },
  {
   "cell_type": "code",
   "execution_count": 9,
   "id": "4724861e-17ee-4a31-be6c-9828f9444d1d",
   "metadata": {},
   "outputs": [
    {
     "name": "stdout",
     "output_type": "stream",
     "text": [
      "Latitude: 40.7128, Longitude: -74.006\n"
     ]
    }
   ],
   "source": [
    "# 2. Print the coordinates in the format \"Latitude: [latitude], Longitude: [longitude]\".\n",
    "\n",
    "# Extract latitude and longitude\n",
    "latitude = gdf.loc[0, \"Latitude\"]\n",
    "longitude = gdf.loc[0, \"Longitude\"]\n",
    "\n",
    "# Print the coordinates in the desired format\n",
    "print(f\"Latitude: {latitude}, Longitude: {longitude}\")"
   ]
  },
  {
   "cell_type": "markdown",
   "id": "3",
   "metadata": {},
   "source": [
    "## Exercise 2: Working with Strings\n",
    "\n",
    "Create a string variable to store the name of a city, such as \"San Francisco\". Perform the following operations:\n",
    "\n",
    "1. Convert the string to lowercase and print the result.\n",
    "2. Convert the string to uppercase and print the result.\n",
    "3. Replace \"San\" with \"Los\" in the city name and print the new string."
   ]
  },
  {
   "cell_type": "code",
   "execution_count": 10,
   "id": "4",
   "metadata": {},
   "outputs": [
    {
     "name": "stdout",
     "output_type": "stream",
     "text": [
      "San Francisco\n"
     ]
    }
   ],
   "source": [
    "city_name = \"San Francisco\"\n",
    "\n",
    "# Print the variable to verify\n",
    "print(city_name)"
   ]
  },
  {
   "cell_type": "code",
   "execution_count": 11,
   "id": "9e40c9ed-2afa-469a-82be-6954718b0bec",
   "metadata": {},
   "outputs": [
    {
     "name": "stdout",
     "output_type": "stream",
     "text": [
      "san francisco\n"
     ]
    }
   ],
   "source": [
    "# 1. Convert the string to lowercase and print the result.\n",
    "\n",
    "# Convert the city name to lowercase\n",
    "city_name_lower = city_name.lower()\n",
    "\n",
    "# Print the result\n",
    "print(city_name_lower)"
   ]
  },
  {
   "cell_type": "code",
   "execution_count": 12,
   "id": "d1f397d6-c78b-44c7-adea-14c55c9645bd",
   "metadata": {},
   "outputs": [
    {
     "name": "stdout",
     "output_type": "stream",
     "text": [
      "SAN FRANCISCO\n"
     ]
    }
   ],
   "source": [
    "# 2. Convert the string to uppercase and print the result.\n",
    "\n",
    "# Convert the city name to lowercase\n",
    "city_name_upper = city_name.upper()\n",
    "\n",
    "# Print the result\n",
    "print(city_name_upper)"
   ]
  },
  {
   "cell_type": "code",
   "execution_count": 14,
   "id": "b10f106b-e878-4a80-9f95-8b5556a7d5ee",
   "metadata": {},
   "outputs": [
    {
     "name": "stdout",
     "output_type": "stream",
     "text": [
      "Los Francisco\n"
     ]
    }
   ],
   "source": [
    "# 3. Replace \"San\" with \"Los\" in the city name and print the new string.\n",
    "\n",
    "# Replace \"San\" with \"Los\" in the city name\n",
    "new_city_name = city_name.replace(\"San\", \"Los\")\n",
    "\n",
    "# Print the new string\n",
    "print(new_city_name)"
   ]
  },
  {
   "cell_type": "markdown",
   "id": "5",
   "metadata": {},
   "source": [
    "## Exercise 3: Using Lists\n",
    "\n",
    "Create a list of tuples, where each tuple contains the name of a city and its corresponding latitude and longitude:\n",
    "\n",
    "- New York City: (40.7128, -74.0060)\n",
    "- Los Angeles: (34.0522, -118.2437)\n",
    "- Chicago: (41.8781, -87.6298)\n",
    "\n",
    "Perform the following tasks:\n",
    "\n",
    "1. Add a new city (e.g., Miami: (25.7617, -80.1918)) to the list.\n",
    "2. Print the entire list of cities.\n",
    "3. Slice the list to print only the first two cities."
   ]
  },
  {
   "cell_type": "code",
   "execution_count": 57,
   "id": "6",
   "metadata": {},
   "outputs": [
    {
     "name": "stdout",
     "output_type": "stream",
     "text": [
      "[('New York City', (40.7128, -74.006)), ('Los Angeles', (34.0522, -118.2437)), ('Chicago', (41.8781, -87.6298))]\n"
     ]
    }
   ],
   "source": [
    "# List of tuples with city names and their coordinates\n",
    "cities = [\n",
    "    (\"New York City\", (40.7128, -74.0060)),\n",
    "    (\"Los Angeles\", (34.0522, -118.2437)),\n",
    "    (\"Chicago\", (41.8781, -87.6298))\n",
    "]\n",
    "\n",
    "# Print the list of tuples\n",
    "print(cities)"
   ]
  },
  {
   "cell_type": "code",
   "execution_count": 58,
   "id": "825ba4d5-d97e-44a7-9543-6b39ace60b80",
   "metadata": {},
   "outputs": [],
   "source": [
    "# 1. Add a new city (e.g., Miami: (25.7617, -80.1918)) to the list.\n",
    "\n",
    "# Add Miami to the list of cities\n",
    "cities.append((\"Miami\", (25.7617, -80.1918)))"
   ]
  },
  {
   "cell_type": "code",
   "execution_count": 59,
   "id": "85a05c5c-881b-4188-82c1-0c3230356c49",
   "metadata": {},
   "outputs": [
    {
     "name": "stdout",
     "output_type": "stream",
     "text": [
      "[('New York City', (40.7128, -74.006)), ('Los Angeles', (34.0522, -118.2437)), ('Chicago', (41.8781, -87.6298)), ('Miami', (25.7617, -80.1918))]\n"
     ]
    }
   ],
   "source": [
    "# 2. Print the updated list\n",
    "\n",
    "print(cities)"
   ]
  },
  {
   "cell_type": "code",
   "execution_count": 60,
   "id": "0dfa026e-408e-45e8-8d43-b1a3d285b556",
   "metadata": {},
   "outputs": [
    {
     "name": "stdout",
     "output_type": "stream",
     "text": [
      "[('New York City', (40.7128, -74.006)), ('Los Angeles', (34.0522, -118.2437))]\n"
     ]
    }
   ],
   "source": [
    "# 3. Slice the list to print only the first two cities.\n",
    "\n",
    "# Print only the first two cities\n",
    "first_two_cities = cities[:2]\n",
    "\n",
    "print(first_two_cities)"
   ]
  },
  {
   "cell_type": "markdown",
   "id": "7",
   "metadata": {},
   "source": [
    "## Exercise 4: Using Tuples\n",
    "\n",
    "Create a tuple to store the coordinates (latitude, longitude) of the Eiffel Tower: (48.8584, 2.2945). Perform the following tasks:\n",
    "\n",
    "1. Access and print the latitude and longitude values from the tuple.\n",
    "2. Try to change the latitude value to 48.8585. What happens? Explain why."
   ]
  },
  {
   "cell_type": "code",
   "execution_count": 21,
   "id": "8",
   "metadata": {},
   "outputs": [],
   "source": [
    "# Create a tuple for the coordinates of the Eiffel Tower\n",
    "tourist_attractions_coords = [\n",
    "    (\"Eiffel Tower\", (48.8584, 2.2945))\n",
    "]"
   ]
  },
  {
   "cell_type": "code",
   "execution_count": 24,
   "id": "3b5316d1-d3e7-40a7-a73e-f167a044c274",
   "metadata": {},
   "outputs": [
    {
     "name": "stdout",
     "output_type": "stream",
     "text": [
      "Eiffel Tower latitude: 48.8584, Eiffel Tower longitude: 2.2945\n"
     ]
    }
   ],
   "source": [
    "# 1. Access and print the latitude and longitude values from the tuple.\n",
    "\n",
    "# Access the coordinates of the Eiffel Tower\n",
    "eiffel_tower_coords = tourist_attractions_coords[0][1]\n",
    "\n",
    "# Print the latitude and longitude\n",
    "print(f\"Eiffel Tower latitude: {eiffel_tower_coords[0]}, Eiffel Tower longitude: {eiffel_tower_coords[1]}\")"
   ]
  },
  {
   "cell_type": "code",
   "execution_count": 25,
   "id": "bb02be20-d2f6-4b08-9e5d-766b32e2acca",
   "metadata": {},
   "outputs": [
    {
     "ename": "TypeError",
     "evalue": "'tuple' object does not support item assignment",
     "output_type": "error",
     "traceback": [
      "\u001b[1;31m---------------------------------------------------------------------------\u001b[0m",
      "\u001b[1;31mTypeError\u001b[0m                                 Traceback (most recent call last)",
      "Cell \u001b[1;32mIn[25], line 4\u001b[0m\n\u001b[0;32m      1\u001b[0m \u001b[38;5;66;03m# 2. Try to change the latitude value to 48.8585. What happens? Explain why.\u001b[39;00m\n\u001b[0;32m      2\u001b[0m \n\u001b[0;32m      3\u001b[0m \u001b[38;5;66;03m# Attempt to change the latitude\u001b[39;00m\n\u001b[1;32m----> 4\u001b[0m \u001b[43mtourist_attractions_coords\u001b[49m\u001b[43m[\u001b[49m\u001b[38;5;241;43m0\u001b[39;49m\u001b[43m]\u001b[49m\u001b[43m[\u001b[49m\u001b[38;5;241;43m1\u001b[39;49m\u001b[43m]\u001b[49m\u001b[43m[\u001b[49m\u001b[38;5;241;43m0\u001b[39;49m\u001b[43m]\u001b[49m \u001b[38;5;241m=\u001b[39m \u001b[38;5;241m48.8585\u001b[39m  \u001b[38;5;66;03m# This will raise an error\u001b[39;00m\n",
      "\u001b[1;31mTypeError\u001b[0m: 'tuple' object does not support item assignment"
     ]
    }
   ],
   "source": [
    "# 2. Try to change the latitude value to 48.8585. What happens? Explain why.\n",
    "\n",
    "# If you try to change the latitude value directly in the tuple, you will encounter an error. \n",
    "# This is because tuples in Python are immutable, meaning their values cannot be changed after they are created.\n",
    "\n",
    "# Attempt to change the latitude\n",
    "tourist_attractions_coords[0][1][0] = 48.8585  # This will raise an error"
   ]
  },
  {
   "cell_type": "markdown",
   "id": "9",
   "metadata": {},
   "source": [
    "## Exercise 5: Working with Sets\n",
    "\n",
    "Create a set of countries you have visited, such as {\"USA\", \"France\", \"Germany\"}. Perform the following tasks:\n",
    "\n",
    "1. Add a new country to the set.\n",
    "2. Try to add the same country again. What happens?\n",
    "3. Print the updated set."
   ]
  },
  {
   "cell_type": "code",
   "execution_count": 31,
   "id": "10",
   "metadata": {},
   "outputs": [
    {
     "name": "stdout",
     "output_type": "stream",
     "text": [
      "{'Turkey', 'Mexico', 'Guinea', 'Bosnia', 'Italy', 'Switzerland', 'Greece', 'Bulgaria', 'Serbia', 'Canada', 'Belgium', 'Morocco', 'Croatia', 'Senegal', 'Peru', 'Guinea-Bissau', 'Netherlands', 'Spain', 'Romania', 'France', 'Germany', 'USA', 'Denmark', 'Andorra', 'United Kingdom', 'Gambia'}\n"
     ]
    }
   ],
   "source": [
    "# Create a set of countries visited\n",
    "countries_visited = {\"USA\",\n",
    "                     \"Mexico\",\n",
    "                     \"Canada\",\n",
    "                     \"Peru\",\n",
    "                     \"United Kingdom\",\n",
    "                     \"France\",\n",
    "                     \"Germany\",\n",
    "                     \"Belgium\",\n",
    "                     \"Netherlands\",\n",
    "                     \"Denmark\",\n",
    "                     \"Spain\",\n",
    "                     \"Andorra\",\n",
    "                     \"Switzerland\",\n",
    "                     \"Italy\",\n",
    "                     \"Greece\",\n",
    "                     \"Croatia\",\n",
    "                     \"Bulgaria\",\n",
    "                     \"Romania\",\n",
    "                     \"Turkey\",\n",
    "                     \"Bosnia\",\n",
    "                     \"Serbia\",\n",
    "                     \"Morocco\",\n",
    "                     \"Senegal\",\n",
    "                     \"Gambia\",\n",
    "                     \"Guinea-Bissau\",\n",
    "                     \"Guinea\",\n",
    "                     \"South Africa\",\n",
    "                     \"Eswatini\"\n",
    "                    }\n",
    "\n",
    "# Print the set\n",
    "print(countries_visited)"
   ]
  },
  {
   "cell_type": "code",
   "execution_count": 32,
   "id": "536134a9-f261-4a87-9f87-db984d6e9aeb",
   "metadata": {},
   "outputs": [
    {
     "name": "stdout",
     "output_type": "stream",
     "text": [
      "{'Turkey', 'Mexico', 'Guinea', 'Bosnia', 'Italy', 'Switzerland', 'Greece', 'Bulgaria', 'Serbia', 'Canada', 'Belgium', 'Morocco', 'Croatia', 'Ivory Coast', 'Senegal', 'Peru', 'Guinea-Bissau', 'Netherlands', 'Spain', 'Romania', 'France', 'Germany', 'USA', 'Denmark', 'Andorra', 'United Kingdom', 'Gambia'}\n"
     ]
    }
   ],
   "source": [
    "# 1. Add a new country to the set.\n",
    "\n",
    "# Add a new country to the set\n",
    "countries_visited.add(\"Ivory Coast\")\n",
    "\n",
    "# Print the updated set\n",
    "print(countries_visited)"
   ]
  },
  {
   "cell_type": "code",
   "execution_count": 33,
   "id": "c7884a2d-be50-4fd3-b0bd-a1ce1e079a73",
   "metadata": {},
   "outputs": [],
   "source": [
    "# 2. Try to add the same country again. What happens?\n",
    "\n",
    "# It simply ignores the duplicate, because sets do not allow duplicate values\n",
    "\n",
    "# Add a new country to the set\n",
    "countries_visited.add(\"Ivory Coast\")"
   ]
  },
  {
   "cell_type": "code",
   "execution_count": 35,
   "id": "b4fefff8-89da-4c25-bfc5-c6af8182c417",
   "metadata": {},
   "outputs": [
    {
     "name": "stdout",
     "output_type": "stream",
     "text": [
      "{'Turkey', 'Mexico', 'Guinea', 'Bosnia', 'Italy', 'Switzerland', 'Greece', 'Bulgaria', 'Serbia', 'Canada', 'Belgium', 'Morocco', 'Croatia', 'Ivory Coast', 'Senegal', 'Peru', 'Guinea-Bissau', 'Netherlands', 'Spain', 'Romania', 'France', 'Germany', 'USA', 'Denmark', 'Andorra', 'United Kingdom', 'Gambia'}\n"
     ]
    }
   ],
   "source": [
    "# Print the updated set\n",
    "\n",
    "# Ivory coast is still listed just once\n",
    "print(countries_visited)"
   ]
  },
  {
   "cell_type": "markdown",
   "id": "11",
   "metadata": {},
   "source": [
    "## Exercise 6: Working with Dictionaries\n",
    "\n",
    "Create a dictionary to store information about a specific geospatial feature, such as a river:\n",
    "\n",
    "- Name: \"Amazon River\"\n",
    "- Length: 6400 km\n",
    "- Countries: [\"Brazil\", \"Peru\", \"Colombia\"]\n",
    "\n",
    "Perform the following tasks:\n",
    "\n",
    "1. Add a new key-value pair to the dictionary to store the river's average discharge (e.g., 209,000 m³/s).\n",
    "2. Update the length of the river to 6992 km.\n",
    "3. Print the dictionary."
   ]
  },
  {
   "cell_type": "code",
   "execution_count": 36,
   "id": "12",
   "metadata": {},
   "outputs": [
    {
     "name": "stdout",
     "output_type": "stream",
     "text": [
      "{'Name': 'Amazon River', 'Length': 6400, 'Countries': ['Brazil', 'Peru', 'Colombia']}\n"
     ]
    }
   ],
   "source": [
    "# Create a dictionary for the Amazon River\n",
    "river_info = {\n",
    "    \"Name\": \"Amazon River\",\n",
    "    \"Length\": 6400,  # in kilometers\n",
    "    \"Countries\": [\"Brazil\", \"Peru\", \"Colombia\"]\n",
    "}\n",
    "\n",
    "# Print the dictionary\n",
    "print(river_info)\n"
   ]
  },
  {
   "cell_type": "code",
   "execution_count": 37,
   "id": "5b9c05d0-1732-4a19-89b6-de3e5352a979",
   "metadata": {},
   "outputs": [],
   "source": [
    "# 1. Add a new key-value pair to the dictionary to store the river's average discharge (e.g., 209,000 m³/s).\n",
    "\n",
    "# Add average discharge in cubic meters per second (m³/s) to the river_info dictionary\n",
    "river_info[\"Average Discharge\"] = 209000 "
   ]
  },
  {
   "cell_type": "code",
   "execution_count": 40,
   "id": "86e9243f-4af9-4ce7-a2f7-81571a086028",
   "metadata": {},
   "outputs": [],
   "source": [
    "# 2. Update the length of the river to 6992 km.\n",
    "\n",
    "# Update \"Length\"\n",
    "river_info[\"Length\"] = 6992 "
   ]
  },
  {
   "cell_type": "code",
   "execution_count": 41,
   "id": "6e71e4ec-e023-44c8-8bf9-bfdbbf714b93",
   "metadata": {},
   "outputs": [
    {
     "name": "stdout",
     "output_type": "stream",
     "text": [
      "{'Name': 'Amazon River', 'Length': 6992, 'Countries': ['Brazil', 'Peru', 'Colombia'], 'Average Discharge': 209000}\n"
     ]
    }
   ],
   "source": [
    "# 3. Print the dictionary.\n",
    "\n",
    "# Print the dictionary\n",
    "print(river_info)"
   ]
  },
  {
   "cell_type": "markdown",
   "id": "13",
   "metadata": {},
   "source": [
    "## Exercise 7: Nested Data Structures\n",
    "\n",
    "Create a dictionary to represent a city that contains the city's name, population, and coordinates (latitude, longitude):\n",
    "\n",
    "- Name: \"Tokyo\"\n",
    "- Population: 13,515,271\n",
    "- Coordinates: (35.6895, 139.6917)\n",
    "\n",
    "Perform the following tasks:\n",
    "\n",
    "1. Access and print the population of the city.\n",
    "2. Access and print the city's latitude.\n",
    "3. Update the population to 14,000,000 and print the updated dictionary."
   ]
  },
  {
   "cell_type": "code",
   "execution_count": 43,
   "id": "14",
   "metadata": {},
   "outputs": [
    {
     "name": "stdout",
     "output_type": "stream",
     "text": [
      "{'Name': 'Tokyo', 'Population': 13515271, 'Coordinates': (35.6895, 139.6917)}\n"
     ]
    }
   ],
   "source": [
    "# Create new dictionary for city data\n",
    "city_info = {\n",
    "    \"Name\": \"Tokyo\",\n",
    "    \"Population\": 13515271,  # in kilometers\n",
    "    \"Coordinates\": (35.6895, 139.6917)\n",
    "}\n",
    "print(city_info)"
   ]
  },
  {
   "cell_type": "code",
   "execution_count": 46,
   "id": "f9bc1097-fedf-4d72-aa0e-0aa8cbf5f612",
   "metadata": {},
   "outputs": [
    {
     "name": "stdout",
     "output_type": "stream",
     "text": [
      "Tokyo Population: 13515271\n"
     ]
    }
   ],
   "source": [
    "# 1. Access and print the population of the city.\n",
    "\n",
    "print(\"Tokyo Population:\", city_info['Population'])"
   ]
  },
  {
   "cell_type": "code",
   "execution_count": 48,
   "id": "457f6e9f-5f59-4004-b3ae-37c9ac361f4a",
   "metadata": {},
   "outputs": [
    {
     "name": "stdout",
     "output_type": "stream",
     "text": [
      "Tokyo Latitude: 35.6895\n"
     ]
    }
   ],
   "source": [
    "# 2. Access and print the city's latitude.\n",
    "\n",
    "# Print second item of key 'Coordinates'\n",
    "print(\"Tokyo Latitude:\", city_info['Coordinates'][0])"
   ]
  },
  {
   "cell_type": "code",
   "execution_count": 49,
   "id": "3a21cd57-a6d9-4892-97d9-42119ed0ab4d",
   "metadata": {},
   "outputs": [
    {
     "name": "stdout",
     "output_type": "stream",
     "text": [
      "{'Name': 'Tokyo', 'Population': 14000000, 'Coordinates': (35.6895, 139.6917)}\n"
     ]
    }
   ],
   "source": [
    "# 3. Update the population to 14,000,000 and print the updated dictionary.\n",
    "\n",
    "# Update 'Population'\n",
    "city_info['Population'] = 14000000\n",
    "\n",
    "# Print updated dictionary\n",
    "print(city_info)"
   ]
  },
  {
   "cell_type": "markdown",
   "id": "15",
   "metadata": {},
   "source": [
    "## Exercise 8: List Operations\n",
    "\n",
    "Given the list of cities from Exercise 3, perform the following operations:\n",
    "\n",
    "1. Sort the list of cities alphabetically by name.\n",
    "2. Create a new list that contains only the city names.\n",
    "3. Remove the last city from the original list and print the updated list."
   ]
  },
  {
   "cell_type": "code",
   "execution_count": 61,
   "id": "5e675515-7b9f-458e-a105-bf16a9c760ac",
   "metadata": {},
   "outputs": [
    {
     "data": {
      "text/plain": [
       "[('New York City', (40.7128, -74.006)),\n",
       " ('Los Angeles', (34.0522, -118.2437)),\n",
       " ('Chicago', (41.8781, -87.6298)),\n",
       " ('Miami', (25.7617, -80.1918))]"
      ]
     },
     "execution_count": 61,
     "metadata": {},
     "output_type": "execute_result"
    }
   ],
   "source": [
    "# Print city list from exercise 3\n",
    "\n",
    "cities"
   ]
  },
  {
   "cell_type": "code",
   "execution_count": 62,
   "id": "16",
   "metadata": {},
   "outputs": [
    {
     "name": "stdout",
     "output_type": "stream",
     "text": [
      "[('Chicago', (41.8781, -87.6298)), ('Los Angeles', (34.0522, -118.2437)), ('Miami', (25.7617, -80.1918)), ('New York City', (40.7128, -74.006))]\n"
     ]
    }
   ],
   "source": [
    "# 1. Sort the list of cities alphabetically by name.\n",
    "\n",
    "# Sort the list alphabetically by city name (first element of each tuple)\n",
    "sorted_cities = sorted(cities, key=lambda x: x[0])\n",
    "\n",
    "# Print the sorted list\n",
    "print(sorted_cities)"
   ]
  },
  {
   "cell_type": "code",
   "execution_count": 63,
   "id": "b2da6fb1-82cc-470c-931e-9ef7109284a4",
   "metadata": {},
   "outputs": [
    {
     "name": "stdout",
     "output_type": "stream",
     "text": [
      "['New York City', 'Los Angeles', 'Chicago', 'Miami']\n"
     ]
    }
   ],
   "source": [
    "# 2. Create a new list that contains only the city names.\n",
    "\n",
    "# Create a new list with only the city names\n",
    "city_names = [city[0] for city in cities]\n",
    "\n",
    "# Print the new list\n",
    "print(city_names)"
   ]
  },
  {
   "cell_type": "code",
   "execution_count": 65,
   "id": "998004b8-d1e7-436e-b845-38b0f614a3cb",
   "metadata": {},
   "outputs": [
    {
     "data": {
      "text/plain": [
       "[('New York City', (40.7128, -74.006)),\n",
       " ('Los Angeles', (34.0522, -118.2437)),\n",
       " ('Chicago', (41.8781, -87.6298))]"
      ]
     },
     "execution_count": 65,
     "metadata": {},
     "output_type": "execute_result"
    }
   ],
   "source": [
    "# 3. Remove the last city from the original list and print the updated list.\n",
    "\n",
    "# Use slicing\n",
    "cities_shortened = cities[0:-1]\n",
    "cities_shortened"
   ]
  },
  {
   "cell_type": "markdown",
   "id": "17",
   "metadata": {},
   "source": [
    "## Exercise 9: Dictionary Operations\n",
    "\n",
    "Using the dictionary from Exercise 6, perform the following tasks:\n",
    "\n",
    "1. Check if the key \"Length\" exists in the dictionary.\n",
    "2. Print all the keys in the dictionary.\n",
    "3. Print all the values in the dictionary."
   ]
  },
  {
   "cell_type": "code",
   "execution_count": 67,
   "id": "18",
   "metadata": {},
   "outputs": [
    {
     "data": {
      "text/plain": [
       "{'Name': 'Amazon River',\n",
       " 'Length': 6992,\n",
       " 'Countries': ['Brazil', 'Peru', 'Colombia'],\n",
       " 'Average Discharge': 209000}"
      ]
     },
     "execution_count": 67,
     "metadata": {},
     "output_type": "execute_result"
    }
   ],
   "source": [
    "# Re-print dictionary from exercise 6\n",
    "\n",
    "river_info"
   ]
  },
  {
   "cell_type": "code",
   "execution_count": 70,
   "id": "c899f0df-8a3e-4e0c-9cdd-8fbf0da644fe",
   "metadata": {},
   "outputs": [
    {
     "name": "stdout",
     "output_type": "stream",
     "text": [
      "Key 'Length' exists in the dictionary.\n"
     ]
    }
   ],
   "source": [
    "# 1. Check if the key 'Length' exists in the dictionary\n",
    "\n",
    "# Use 'if', 'in', and 'else' as logical clauses\n",
    "if 'Length' in river_info:\n",
    "    print(\"Key 'Length' exists in the dictionary.\")\n",
    "else:\n",
    "    print(\"Key 'Length' does not exist in the dictionary.\")"
   ]
  },
  {
   "cell_type": "code",
   "execution_count": 71,
   "id": "4a1b1fd2-adca-4a0f-ac3d-61fc5d5e3c26",
   "metadata": {},
   "outputs": [
    {
     "name": "stdout",
     "output_type": "stream",
     "text": [
      "dict_keys(['Name', 'Length', 'Countries', 'Average Discharge'])\n"
     ]
    }
   ],
   "source": [
    "# 2. Print all the keys in the dictionary.\n",
    "\n",
    "print(river_info.keys())"
   ]
  },
  {
   "cell_type": "code",
   "execution_count": 72,
   "id": "c2101180-3a16-4d45-881f-b60c9ae61968",
   "metadata": {},
   "outputs": [
    {
     "name": "stdout",
     "output_type": "stream",
     "text": [
      "dict_values(['Amazon River', 6992, ['Brazil', 'Peru', 'Colombia'], 209000])\n"
     ]
    }
   ],
   "source": [
    "# 3. Print all the values in the dictionary.\n",
    "\n",
    "print(river_info.values())"
   ]
  },
  {
   "cell_type": "markdown",
   "id": "19",
   "metadata": {},
   "source": [
    "## Exercise 10: Practical Application\n",
    "\n",
    "Imagine you have a list of tuples, each representing a location with its name, latitude, and longitude:"
   ]
  },
  {
   "cell_type": "code",
   "execution_count": 75,
   "id": "20",
   "metadata": {},
   "outputs": [],
   "source": [
    "locations = [\n",
    "    (\"Mount Everest\", 27.9881, 86.9250),\n",
    "    (\"K2\", 35.8808, 76.5155),\n",
    "    (\"Kangchenjunga\", 27.7025, 88.1475),\n",
    "]"
   ]
  },
  {
   "cell_type": "markdown",
   "id": "21",
   "metadata": {},
   "source": [
    "Perform the following tasks:\n",
    "\n",
    "1. Create a new list that contains only the names of the locations.\n",
    "2. Create a dictionary where the keys are location names and the values are tuples of their coordinates.\n",
    "3. Print the latitude of \"K2\" using the dictionary."
   ]
  },
  {
   "cell_type": "code",
   "execution_count": 78,
   "id": "22",
   "metadata": {},
   "outputs": [
    {
     "name": "stdout",
     "output_type": "stream",
     "text": [
      "<class 'list'>\n"
     ]
    },
    {
     "data": {
      "text/plain": [
       "['Mount Everest', 'K2', 'Kangchenjunga']"
      ]
     },
     "execution_count": 78,
     "metadata": {},
     "output_type": "execute_result"
    }
   ],
   "source": [
    "# 1. Create a new list that contains only the names of the locations.\n",
    "\n",
    "location_names = [location[0] for location in locations]\n",
    "print(type(location_names))\n",
    "location_names"
   ]
  },
  {
   "cell_type": "code",
   "execution_count": 79,
   "id": "b0230edd-2d23-412a-a504-b813002c60ea",
   "metadata": {},
   "outputs": [
    {
     "data": {
      "text/plain": [
       "{'Mount Everest': (27.9881, 86.925),\n",
       " 'K2': (35.8808, 76.5155),\n",
       " 'Kangchenjunga': (27.7025, 88.1475)}"
      ]
     },
     "execution_count": 79,
     "metadata": {},
     "output_type": "execute_result"
    }
   ],
   "source": [
    "# 2. Create a dictionary where the keys are location names and the values are tuples of their coordinates.\n",
    "\n",
    "# Logical\n",
    "location_dict = {location[0]: (location[1], location[2]) for location in locations}\n",
    "location_dict"
   ]
  },
  {
   "cell_type": "code",
   "execution_count": 81,
   "id": "379e996a-4b2f-4f08-be84-7ac2885f1142",
   "metadata": {},
   "outputs": [
    {
     "name": "stdout",
     "output_type": "stream",
     "text": [
      "K2 latitude: 35.8808\n"
     ]
    }
   ],
   "source": [
    "# 3. Print the latitude of \"K2\" using the dictionary.\n",
    "\n",
    "# Specify dictionary['key'][value]\n",
    "print(\"K2 latitude:\", location_dict['K2'][0])"
   ]
  }
 ],
 "metadata": {
  "kernelspec": {
   "display_name": "Python 3 (ipykernel)",
   "language": "python",
   "name": "python3"
  },
  "language_info": {
   "codemirror_mode": {
    "name": "ipython",
    "version": 3
   },
   "file_extension": ".py",
   "mimetype": "text/x-python",
   "name": "python",
   "nbconvert_exporter": "python",
   "pygments_lexer": "ipython3",
   "version": "3.11.10"
  }
 },
 "nbformat": 4,
 "nbformat_minor": 5
}

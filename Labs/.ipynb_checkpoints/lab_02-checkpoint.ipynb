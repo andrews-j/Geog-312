{
 "cells": [
  {
   "cell_type": "markdown",
   "id": "0",
   "metadata": {},
   "source": [
    "# Lab 2\n",
    "\n",
    "[![Open In Colab](https://colab.research.google.com/assets/colab-badge.svg)](https://colab.research.google.com/github/giswqs/geog-312/blob/main/book/labs/lab_02.ipynb)\n",
    "\n",
    "This notebook contains exercises based on the lectures on [**String Operations**](https://geog-312.gishub.org/book/python/04_string_operations.html) and [**Looping and Control Statements**](https://geog-312.gishub.org/book/python/05_looping.html). These exercises will help reinforce the concepts of string manipulation, loops, and conditionals in geospatial contexts."
   ]
  },
  {
   "cell_type": "code",
   "execution_count": 1,
   "id": "581f1473-5925-4c7a-ae0b-690fd20f2efe",
   "metadata": {},
   "outputs": [],
   "source": [
    "# Import a few packages\n",
    "import pandas as pd\n",
    "import geopandas as gpd\n",
    "from shapely.geometry import Point\n",
    "import matplotlib.pyplot as plt\n",
    "import folium\n",
    "import os\n",
    "pd.options.display.max_rows = 300"
   ]
  },
  {
   "cell_type": "code",
   "execution_count": 2,
   "id": "2",
   "metadata": {},
   "outputs": [
    {
     "name": "stdout",
     "output_type": "stream",
     "text": [
      "G:\\My Drive\\Clark\\GIS Tutorials\\Geog-312\\Geog-312\\Labs\n"
     ]
    }
   ],
   "source": [
    "print(os.getcwd())\n",
    "#os.chdir('G:/My Drive/Clark')"
   ]
  },
  {
   "cell_type": "markdown",
   "id": "1",
   "metadata": {},
   "source": [
    "## Exercise 1: Manipulating Geographic Location Strings\n",
    "\n",
    "- Create a string that represents the name of a geographic feature (e.g., `\"Amazon River\"`).\n",
    "- Convert the string to lowercase and then to uppercase.\n",
    "- Concatenate the string with the name of the country (e.g., `\"Brazil\"`) to create a full location name.\n",
    "- Repeat the string three times, separating each repetition with a dash (`-`)."
   ]
  },
  {
   "cell_type": "code",
   "execution_count": 3,
   "id": "acc7a7ff-26bc-425f-b713-82e175524c5d",
   "metadata": {},
   "outputs": [],
   "source": [
    "# Create a string that represents the name of a geographic feature (e.g., \"Amazon River\").\n",
    "feature_name = \"Amazon River\""
   ]
  },
  {
   "cell_type": "code",
   "execution_count": 4,
   "id": "9b5c2d90-9100-4ea8-a64a-f5f9f07b6be0",
   "metadata": {},
   "outputs": [],
   "source": [
    "# Convert the string to lowercase and then to uppercase.\n",
    "lowercase_name = feature_name.lower()\n",
    "uppercase_name = feature_name.upper()"
   ]
  },
  {
   "cell_type": "code",
   "execution_count": 5,
   "id": "f6b36255-3f3c-43d6-b83c-4f4a94e4cc5c",
   "metadata": {},
   "outputs": [],
   "source": [
    "# Concatenate the string with the name of the country (e.g., \"Brazil\") to create a full location name.\n",
    "country_name = \"Brazil\"\n",
    "full_location = feature_name + \", \" + country_name"
   ]
  },
  {
   "cell_type": "code",
   "execution_count": 6,
   "id": "18d13d2f-96f2-41d8-b022-e5c41373b2de",
   "metadata": {},
   "outputs": [],
   "source": [
    "# Repeat the string three times, separating each repetition with a dash (-).\n",
    "repeated_location = (full_location + \" - \") * 2 + full_location  # Repeat 3 times with dashes"
   ]
  },
  {
   "cell_type": "code",
   "execution_count": 7,
   "id": "2dbc4d2c-f1e7-4348-a4f4-c0a9d642b37c",
   "metadata": {},
   "outputs": [
    {
     "name": "stdout",
     "output_type": "stream",
     "text": [
      "Lowercase: amazon river\n",
      "Uppercase: AMAZON RIVER\n",
      "Full Location: Amazon River, Brazil\n",
      "Repeated Location: Amazon River, Brazil - Amazon River, Brazil - Amazon River, Brazil\n"
     ]
    }
   ],
   "source": [
    "# Print the results\n",
    "print(\"Lowercase:\", lowercase_name)\n",
    "print(\"Uppercase:\", uppercase_name)\n",
    "print(\"Full Location:\", full_location)\n",
    "print(\"Repeated Location:\", repeated_location)"
   ]
  },
  {
   "cell_type": "markdown",
   "id": "3",
   "metadata": {},
   "source": [
    "## Exercise 2: Extracting and Formatting Coordinates\n",
    "\n",
    "- Given a string with the format `\"latitude, longitude\"` (e.g., `\"40.7128N, 74.0060W\"`), extract the numeric values of latitude and longitude.\n",
    "- Convert these values to floats and remove the directional indicators (`N`, `S`, `E`, `W`).\n",
    "- Format the coordinates into a `POINT` WKT string (e.g., `\"POINT(-74.0060 40.7128)\"`)."
   ]
  },
  {
   "cell_type": "code",
   "execution_count": 8,
   "id": "4",
   "metadata": {},
   "outputs": [
    {
     "name": "stdout",
     "output_type": "stream",
     "text": [
      "Latitude: 40.7128\n",
      "Longitude: -74.006\n"
     ]
    }
   ],
   "source": [
    "# Strting with format \"latitude, longitude\"\n",
    "coords = \"40.7128N, 74.0060W\"\n",
    "\n",
    "# Split the coordinates into two parts\n",
    "lat_str, lon_str = coords.split(', ')\n",
    "\n",
    "# Handle the directional letters and convert to float\n",
    "latitude = float(lat_str[:-1])\n",
    "longitude = float(lon_str[:-1])\n",
    "\n",
    "# Adjust for South and West (negative values)\n",
    "if 'S' in lat_str:\n",
    "    latitude = -latitude\n",
    "if 'W' in lon_str:\n",
    "    longitude = -longitude\n",
    "\n",
    "# Print the results\n",
    "print(\"Latitude:\", latitude)\n",
    "print(\"Longitude:\", longitude)"
   ]
  },
  {
   "cell_type": "code",
   "execution_count": 9,
   "id": "3952c1f6-56c7-4646-8ad2-9f8ca8dac084",
   "metadata": {},
   "outputs": [
    {
     "data": {
      "text/plain": [
       "'POINT(-74.006 40.7128)'"
      ]
     },
     "execution_count": 9,
     "metadata": {},
     "output_type": "execute_result"
    }
   ],
   "source": [
    "# Create the WKT string for the point\n",
    "wkt_point = f\"POINT({longitude} {latitude})\"\n",
    "wkt_point"
   ]
  },
  {
   "cell_type": "code",
   "execution_count": 10,
   "id": "79286c5f-b4a8-47a6-8ecb-7cf166006544",
   "metadata": {},
   "outputs": [
    {
     "data": {
      "text/plain": [
       "str"
      ]
     },
     "execution_count": 10,
     "metadata": {},
     "output_type": "execute_result"
    }
   ],
   "source": [
    "type(wkt_point)"
   ]
  },
  {
   "cell_type": "markdown",
   "id": "5",
   "metadata": {},
   "source": [
    "## Exercise 3: Building Dynamic SQL Queries\n",
    "\n",
    "- Given a table name and a condition, dynamically build an SQL query string.\n",
    "- Example: If `table_name = \"cities\"` and `condition = \"population > 1000000\"`, the query should be `\"SELECT * FROM cities WHERE population > 1000000;\"`.\n",
    "- Add additional conditions dynamically, like `AND` clauses."
   ]
  },
  {
   "cell_type": "code",
   "execution_count": 13,
   "id": "6",
   "metadata": {},
   "outputs": [
    {
     "name": "stdout",
     "output_type": "stream",
     "text": [
      "SELECT * FROM cities WHERE population > 1000000;\n",
      "SELECT * FROM cities WHERE population > 1000000 AND country = 'USA' AND area > 500;\n"
     ]
    }
   ],
   "source": [
    "# Inputs\n",
    "table_name = \"cities\"\n",
    "condition = \"population > 1000000\"\n",
    "\n",
    "# Base SQL query\n",
    "query = f\"SELECT * FROM {table_name} WHERE {condition};\"\n",
    "print(query)  # Outputs: SELECT * FROM cities WHERE population > 1000000;\n",
    "\n",
    "# Adding dynamic conditions\n",
    "additional_conditions = [\"country = 'USA'\", \"area > 500\"]\n",
    "for cond in additional_conditions:\n",
    "    query = query[:-1] + f\" AND {cond};\"  # Replace the closing semicolon and add the condition\n",
    "\n",
    "print(query)\n"
   ]
  },
  {
   "cell_type": "markdown",
   "id": "7",
   "metadata": {},
   "source": [
    "## Exercise 4: String Normalization and Cleaning\n",
    "\n",
    "- Given a list of city names with inconsistent formatting (e.g., `[\" new york \", \"Los ANGELES\", \"   CHICAGO\"]`), normalize the names by:\n",
    "  - Stripping any leading or trailing whitespace.\n",
    "  - Converting them to title case (e.g., `\"New York\"`, `\"Los Angeles\"`, `\"Chicago\"`).\n",
    "- Ensure that the output is a clean list of city names."
   ]
  },
  {
   "cell_type": "code",
   "execution_count": 11,
   "id": "8",
   "metadata": {},
   "outputs": [],
   "source": [
    "cities_list = [' NEW YORK', 'Los ANGELES', 'san francisco ', 'chicago', ' Philadelphia ']"
   ]
  },
  {
   "cell_type": "code",
   "execution_count": 12,
   "id": "7659a8a9-3ac8-43ec-988c-dacb848b2e15",
   "metadata": {},
   "outputs": [
    {
     "data": {
      "text/plain": [
       "['New York', 'Los Angeles', 'San Francisco', 'Chicago', 'Philadelphia']"
      ]
     },
     "execution_count": 12,
     "metadata": {},
     "output_type": "execute_result"
    }
   ],
   "source": [
    "# Clean up the list\n",
    "cleaned_cities = [city.strip().title() for city in cities_list]\n",
    "cleaned_cities"
   ]
  },
  {
   "cell_type": "markdown",
   "id": "9",
   "metadata": {},
   "source": [
    "## Exercise 5: Parsing and Extracting Address Information\n",
    "\n",
    "- Given a string in the format `\"Street, City, Country\"` (e.g., `\"123 Main St, Springfield, USA\"`), write a function that parses the string into a dictionary with keys `street`, `city`, and `country`.\n",
    "- The function should return a dictionary like `{\"street\": \"123 Main St\", \"city\": \"Springfield\", \"country\": \"USA\"}`."
   ]
  },
  {
   "cell_type": "code",
   "execution_count": 14,
   "id": "10",
   "metadata": {},
   "outputs": [],
   "source": [
    "address1 = \"123 Main St, Springfield, USA\"\n",
    "address2 = \"101 Elm St, Rivendale, United Kingdom\""
   ]
  },
  {
   "cell_type": "code",
   "execution_count": 16,
   "id": "9755e6bb-1140-4d88-a55e-8bb03fe3e5f0",
   "metadata": {},
   "outputs": [
    {
     "data": {
      "text/plain": [
       "{'address1': {'street': '123 Main St',\n",
       "  'city': 'Springfield',\n",
       "  'country': 'USA'},\n",
       " 'address2': {'street': '101 Elm St',\n",
       "  'city': 'Rivendale',\n",
       "  'country': 'United Kingdom'}}"
      ]
     },
     "execution_count": 16,
     "metadata": {},
     "output_type": "execute_result"
    }
   ],
   "source": [
    "def parse_address(address_string):\n",
    "    # Split the string by \", \" and unpack into components\n",
    "    street, city, country = map(str.strip, address_string.split(\",\"))\n",
    "    return {\"street\": street, \"city\": city, \"country\": country}\n",
    "\n",
    "# Parse both addresses\n",
    "address_dict = {\n",
    "    \"address1\": parse_address(address1),\n",
    "    \"address2\": parse_address(address2),\n",
    "}\n",
    "\n",
    "# Print the result\n",
    "address_dict"
   ]
  },
  {
   "cell_type": "markdown",
   "id": "11",
   "metadata": {},
   "source": [
    "## Exercise 6: Using For Loops to Process Coordinate Lists\n",
    "\n",
    "- Create a list of tuples representing coordinates (latitude, longitude).\n",
    "- Write a `for` loop that prints each coordinate and indicates whether it is in the Northern or Southern Hemisphere based on the latitude."
   ]
  },
  {
   "cell_type": "code",
   "execution_count": 19,
   "id": "12",
   "metadata": {},
   "outputs": [
    {
     "name": "stdout",
     "output_type": "stream",
     "text": [
      "New York City is in the northern hemisphere\n",
      "Los Angeles is in the northern hemisphere\n",
      "Chicago is in the northern hemisphere\n"
     ]
    }
   ],
   "source": [
    "cities = [\n",
    "    (\"New York City\", (40.7128, -74.0060)),\n",
    "    (\"Los Angeles\", (34.0522, -118.2437)),\n",
    "    (\"Chicago\", (41.8781, -87.6298))\n",
    "]\n",
    "\n",
    "for city, coords in cities:\n",
    "    if coords[0] > 0:\n",
    "        print(city, \"is in the northern hemisphere\")\n",
    "    else:\n",
    "        print((city, \"is in the southern hemisphere\"))\n"
   ]
  },
  {
   "cell_type": "markdown",
   "id": "13",
   "metadata": {},
   "source": [
    "## Exercise 7: While Loops for Iterative Processing\n",
    "\n",
    "- Create a list of coordinates (latitude, longitude).\n",
    "- Write a `while` loop that continues to print each coordinate until it encounters a coordinate with a negative latitude.\n",
    "- Stop the loop once this condition is met."
   ]
  },
  {
   "cell_type": "code",
   "execution_count": 23,
   "id": "14",
   "metadata": {},
   "outputs": [],
   "source": [
    "coords_list = ['40,-70', '30, -10', '50, 35', '65, -115', '-30, 20']"
   ]
  },
  {
   "cell_type": "code",
   "execution_count": 21,
   "id": "ea9f6517-5720-4fe9-b7eb-a29900acbaab",
   "metadata": {},
   "outputs": [
    {
     "name": "stdout",
     "output_type": "stream",
     "text": [
      "Latitude: 40.0, Longitude: -70.0\n",
      "Latitude: 30.0, Longitude: -10.0\n",
      "Latitude: 50.0, Longitude: 35.0\n",
      "Latitude: 65.0, Longitude: -115.0\n"
     ]
    }
   ],
   "source": [
    "# Initialize index for while loop\n",
    "index = 0\n",
    "\n",
    "while index < len(coords_list):\n",
    "    # Split the coordinate string into latitude and longitude\n",
    "    lat, lon = map(float, coords_list[index].split(\",\"))\n",
    "    \n",
    "    # Check if latitude is negative\n",
    "    if lat < 0:\n",
    "        break  # Exit the loop\n",
    "    \n",
    "    # Print the coordinate\n",
    "    print(f\"Latitude: {lat}, Longitude: {lon}\")\n",
    "    \n",
    "    # Move to the next coordinate\n",
    "    index += 1\n"
   ]
  },
  {
   "cell_type": "markdown",
   "id": "15",
   "metadata": {},
   "source": [
    "## Exercise 8: Conditional Logic in Loops\n",
    "\n",
    "- Create a list of coordinates and use a `for` loop to iterate over them.\n",
    "- Use an `if-elif-else` statement inside the loop to classify each coordinate based on its longitude:\n",
    "  - Print `\"Eastern Hemisphere\"` if the longitude is greater than 0.\n",
    "  - Print `\"Western Hemisphere\"` if the longitude is less than 0."
   ]
  },
  {
   "cell_type": "code",
   "execution_count": 26,
   "id": "16",
   "metadata": {},
   "outputs": [
    {
     "name": "stdout",
     "output_type": "stream",
     "text": [
      "40,-70 is located in the Western Hemisphere\n",
      "30, -10 is located in the Western Hemisphere\n",
      "50, 35 is located in the Eastern Hemisphere\n",
      "65, -115 is located in the Western Hemisphere\n",
      "-30, 20 is located in the Eastern Hemisphere\n"
     ]
    }
   ],
   "source": [
    "for coord in coords_list:\n",
    "        lat, lon = map(float, coord.split(\",\"))\n",
    "\n",
    "        if lon > 0:\n",
    "            print(coord, \"is located in the Eastern Hemisphere\")\n",
    "        elif lon < 0:\n",
    "            print(coord, 'is located in the Western Hemisphere')\n",
    "        else:\n",
    "            print(\"Invalid coordinates\")\n"
   ]
  },
  {
   "cell_type": "markdown",
   "id": "17",
   "metadata": {},
   "source": [
    "## Exercise 9: Filtering Data with Combined Loops and Conditionals\n",
    "\n",
    "- Given a list of coordinates, filter out and store only those located in the Southern Hemisphere (latitude < 0).\n",
    "- Count the number of coordinates that meet this condition and print the result."
   ]
  },
  {
   "cell_type": "code",
   "execution_count": 29,
   "id": "18",
   "metadata": {},
   "outputs": [
    {
     "name": "stdout",
     "output_type": "stream",
     "text": [
      "Number of locations in the southern hemisphere: 1\n"
     ]
    },
    {
     "data": {
      "text/plain": [
       "['-30, 20']"
      ]
     },
     "execution_count": 29,
     "metadata": {},
     "output_type": "execute_result"
    }
   ],
   "source": [
    "s_hem_coords = []\n",
    "for coord in coords_list:\n",
    "        lat, lon = map(float, coord.split(\",\"))\n",
    "\n",
    "        if lat < 0:\n",
    "            s_hem_coords.append(coord)\n",
    "print(\"Number of locations in the southern hemisphere:\", len(s_hem_coords))\n",
    "s_hem_coords\n"
   ]
  },
  {
   "cell_type": "markdown",
   "id": "19",
   "metadata": {},
   "source": [
    "## Exercise 10: Generating and Analyzing Random Coordinates\n",
    "\n",
    "- Write a program that generates random coordinates (latitude between [-90, 90] degrees and longitude between [-180, 180] degrees).\n",
    "- Use a `while` loop to keep generating coordinates until a pair with both latitude and longitude greater than 50 is generated.\n",
    "- Print each generated coordinate and the final coordinate that meets the condition."
   ]
  },
  {
   "cell_type": "code",
   "execution_count": 30,
   "id": "20",
   "metadata": {},
   "outputs": [
    {
     "name": "stdout",
     "output_type": "stream",
     "text": [
      "Generated coordinate: Latitude 55.49, Longitude -156.51\n",
      "Generated coordinate: Latitude -65.27, Longitude 107.24\n",
      "Generated coordinate: Latitude -57.79, Longitude -136.59\n",
      "Generated coordinate: Latitude 40.34, Longitude 117.20\n",
      "Generated coordinate: Latitude 52.13, Longitude 35.95\n",
      "Generated coordinate: Latitude 38.93, Longitude 44.97\n",
      "Generated coordinate: Latitude -17.83, Longitude -34.16\n",
      "Generated coordinate: Latitude -82.30, Longitude -116.73\n",
      "Generated coordinate: Latitude -76.04, Longitude 95.73\n",
      "Generated coordinate: Latitude 19.14, Longitude 139.80\n",
      "Generated coordinate: Latitude -11.89, Longitude -128.91\n",
      "Generated coordinate: Latitude 14.10, Longitude -28.79\n",
      "Generated coordinate: Latitude 48.14, Longitude -24.45\n",
      "Generated coordinate: Latitude -22.87, Longitude -83.90\n",
      "Generated coordinate: Latitude 85.51, Longitude 82.87\n",
      "Final coordinate meeting the condition: Latitude 85.51, Longitude 82.87\n"
     ]
    }
   ],
   "source": [
    "import random\n",
    "\n",
    "while True:\n",
    "    # Generate random latitude and longitude\n",
    "    lat = random.uniform(-90, 90)\n",
    "    lon = random.uniform(-180, 180)\n",
    "    \n",
    "    # Print the generated coordinate\n",
    "    print(f\"Generated coordinate: Latitude {lat:.2f}, Longitude {lon:.2f}\")\n",
    "    \n",
    "    # Check the condition\n",
    "    if lat > 50 and lon > 50:\n",
    "        print(f\"Final coordinate meeting the condition: Latitude {lat:.2f}, Longitude {lon:.2f}\")\n",
    "        break\n"
   ]
  },
  {
   "cell_type": "code",
   "execution_count": 31,
   "id": "71a7b617-8988-4b4e-8829-4ec4833da383",
   "metadata": {},
   "outputs": [
    {
     "name": "stdout",
     "output_type": "stream",
     "text": [
      "Starting a new run...\n",
      "Generated coordinate: Latitude -34.95, Longitude 64.34\n",
      "Condition not met on first attempt. Restarting...\n",
      "\n",
      "Starting a new run...\n",
      "Generated coordinate: Latitude -25.40, Longitude -77.54\n",
      "Condition not met on first attempt. Restarting...\n",
      "\n",
      "Starting a new run...\n",
      "Generated coordinate: Latitude 24.52, Longitude -16.66\n",
      "Condition not met on first attempt. Restarting...\n",
      "\n",
      "Starting a new run...\n",
      "Generated coordinate: Latitude 43.97, Longitude -145.17\n",
      "Condition not met on first attempt. Restarting...\n",
      "\n",
      "Starting a new run...\n",
      "Generated coordinate: Latitude -60.33, Longitude -103.23\n",
      "Condition not met on first attempt. Restarting...\n",
      "\n",
      "Starting a new run...\n",
      "Generated coordinate: Latitude -68.54, Longitude 126.16\n",
      "Condition not met on first attempt. Restarting...\n",
      "\n",
      "Starting a new run...\n",
      "Generated coordinate: Latitude 60.48, Longitude 80.00\n",
      "Final coordinate meeting the condition: Latitude 60.48, Longitude 80.00\n"
     ]
    }
   ],
   "source": [
    "import random\n",
    "\n",
    "while True:  # Outer loop to restart the process if the condition isn't met\n",
    "    print(\"Starting a new run...\")\n",
    "\n",
    "    # Generate the first random coordinate\n",
    "    lat = random.uniform(-90, 90)\n",
    "    lon = random.uniform(-180, 180)\n",
    "    \n",
    "    # Print the generated coordinate\n",
    "    print(f\"Generated coordinate: Latitude {lat:.2f}, Longitude {lon:.2f}\")\n",
    "    \n",
    "    # Check if the condition is met on the first generation\n",
    "    if lat > 50 and lon > 50:\n",
    "        print(f\"Final coordinate meeting the condition: Latitude {lat:.2f}, Longitude {lon:.2f}\")\n",
    "        break  # Exit the outer loop if the condition is met\n",
    "    else:\n",
    "        print(\"Condition not met on first attempt. Restarting...\\n\")\n"
   ]
  },
  {
   "cell_type": "code",
   "execution_count": null,
   "id": "c719c601-2d22-448c-8a93-a37b1935b169",
   "metadata": {},
   "outputs": [],
   "source": []
  }
 ],
 "metadata": {
  "kernelspec": {
   "display_name": "Python 3 (ipykernel)",
   "language": "python",
   "name": "python3"
  },
  "language_info": {
   "codemirror_mode": {
    "name": "ipython",
    "version": 3
   },
   "file_extension": ".py",
   "mimetype": "text/x-python",
   "name": "python",
   "nbconvert_exporter": "python",
   "pygments_lexer": "ipython3",
   "version": "3.11.10"
  }
 },
 "nbformat": 4,
 "nbformat_minor": 5
}
